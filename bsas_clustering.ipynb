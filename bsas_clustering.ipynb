{
 "cells": [
  {
   "cell_type": "code",
   "execution_count": 39,
   "metadata": {},
   "outputs": [],
   "source": [
    "import numpy as np\n",
    "import pandas as pd\n",
    "import cv2\n",
    "import glob\n",
    "import matplotlib.pyplot as plt\n",
    "from keras.layers import Input, Dense, Conv2D, MaxPooling2D, UpSampling2D\n",
    "from keras.models import Model\n",
    "from keras.optimizers import Adam, rmsprop\n",
    "from keras import backend as K\n",
    "from keras.callbacks import ModelCheckpoint"
   ]
  },
  {
   "cell_type": "markdown",
   "metadata": {},
   "source": [
    "### An Unsupervised Approach for Segmentation and Clustering of Soccer Players "
   ]
  },
  {
   "cell_type": "markdown",
   "metadata": {},
   "source": [
    "The idea is to assign every newly presented vector  to an existing cluster or create a new cluster for this  sample,  depending  on  the  distance  to  the  already defined clusters. As pseudo the algorithm works like the following:\n",
    "1. m = 1; Cm = {x1}; // Init first cluster = first sample \n",
    "2. for every sample x from 2 to N  \n",
    "    a. find cluster Ck such that min d(x, Ck)  \n",
    "    b. if d(x, Ck) > th AND (m < q)   \n",
    "        i.  m  =  m  +  1;  Cm  =  {x}  //  Create  a new cluster \n",
    "    c. else   \n",
    "        i.  Ck = Ck + {x} // Add sample to the nearest cluster   \n",
    "        ii. Update representative if needed 3. end algorithm    \n",
    "3. end algorithm"
   ]
  },
  {
   "cell_type": "code",
   "execution_count": 23,
   "metadata": {},
   "outputs": [],
   "source": [
    "def image2hist(img_path):\n",
    "        \"\"\"\n",
    "         returs: normalized histogram of image\n",
    "        :param img_path: link to image\n",
    "        \"\"\"\n",
    "        img = cv2.imread(img_path)\n",
    "        hists = []\n",
    "        for i in reversed(range(3)): # BGR -> RGB\n",
    "            curr_hist = cv2.calcHist([img],[i],None,[256],[0,256]).reshape(1,256)\n",
    "            curr_hist = curr_hist.sum(axis=0)\n",
    "            hists.append(curr_hist / np.sum(curr_hist))\n",
    "        \n",
    "        return np.array(hists)\n",
    "\n",
    "    \n",
    "def dist(x, y):\n",
    "    \"\"\"\n",
    "    calculate the distance between two image points\n",
    "    :param x: first image point\n",
    "    :param y: second image point\n",
    "    \"\"\"\n",
    "    return np.sum(np.abs(x-y))"
   ]
  },
  {
   "cell_type": "code",
   "execution_count": 24,
   "metadata": {},
   "outputs": [],
   "source": [
    "\n",
    "class Bsas(object):\n",
    "    def __init__(self, threshold, img_coding, max_clusters=3, ascent=0.2):\n",
    "        \"\"\"\n",
    "        param: threshold, threshold distance between two classes\n",
    "        param: img_coding, function to create image point\n",
    "        param: max_clusters, number of maximum claster we want to get\n",
    "        param: ascent, ascent value to thereshold\n",
    "               \n",
    "        \n",
    "        \"\"\"\n",
    "        self.th = threshold\n",
    "        self.img_coding = img_coding\n",
    "        self.means = []\n",
    "        self.q = max_clusters\n",
    "        self.size_of_cluster = []\n",
    "        self.count = 0\n",
    "        self.iter = 0\n",
    "        self.ascent = ascent\n",
    "    \n",
    "    \n",
    "    def merge_clusters(self):\n",
    "        \"\"\"\n",
    "        merge clusters if they are less than threshold\n",
    "        \"\"\"\n",
    "        mark = True\n",
    "        while mark == True:\n",
    "            mark = False\n",
    "            d_min = None\n",
    "            c1 = None\n",
    "            c2 = None\n",
    "            for i in range(self.count):\n",
    "                for j in range(i+1, self.count):\n",
    "                    curr_d = dist(self.means[i], self.means[j])\n",
    "                    if (d_min is None) or curr_d < d_min:\n",
    "                        d_min = curr_d\n",
    "                        c1 = i\n",
    "                        c2 = j\n",
    "            if d_min is not None and d_min < self.th:\n",
    "                mark = True\n",
    "                w_1 = self.size_of_cluster[c1]\n",
    "                w_2 = self.size_of_cluster[c2]\n",
    "                self.means[c1] = (w_1 * self.means[c1] + w_2 * self.means[c2]) / (w_1 + w_2)\n",
    "                self.size_of_cluster[c1] = w_1 + w_2\n",
    "                del self.means[c2]\n",
    "                del self.size_of_cluster[c2]\n",
    "                self.count -= 1\n",
    "    \n",
    "    \n",
    "    def update_cluster(self, k, new_img):\n",
    "        \"\"\"\n",
    "        update cluster centre after inserting new image \n",
    "        :param k: winner class \n",
    "        :param new_img: histogram of a new image \n",
    "        \n",
    "        \"\"\"\n",
    "        w_k = self.size_of_cluster[k]\n",
    "        self.means[k] = (w_k * self.means[k] + new_img) / (w_k + 1)\n",
    "        self.size_of_cluster[k] += 1\n",
    "        \n",
    "    \n",
    "    def fit(self, data_paths):\n",
    "        \"\"\"\n",
    "        create clusters\n",
    "        :param data_paths: list of paths\n",
    "        \"\"\"\n",
    "        self.iter += 1\n",
    "        print(self.th)\n",
    "        for img_path in data_paths:\n",
    "            img_point = self.img_coding(img_path)\n",
    "            if self.count == 0:\n",
    "                self.count = 1\n",
    "                self.means.append(img_point)\n",
    "                self.size_of_cluster.append(1)\n",
    "\n",
    "            else:\n",
    "                k = self.predict([img_path])[0]\n",
    "                d = dist(img_point, self.means[k])\n",
    "\n",
    "                if d > self.th and self.count < self.q:\n",
    "                    self.count += 1\n",
    "                    self.means.append(img_point)\n",
    "                    self.size_of_cluster.append(1)\n",
    "                    \n",
    "                elif d <= self.th:\n",
    "                    self.update_cluster(k, img_point)\n",
    "                \n",
    "                else:\n",
    "                    #retrain\n",
    "                    self.th = self.th * (1 + self.ascent / self.iter) \n",
    "                    self.means = []\n",
    "                    self.size_of_cluster = []\n",
    "                    self.count = 0\n",
    "                    self.fit(data_paths)\n",
    "                    break\n",
    "#case for mer                \n",
    "#         self.merge_clusters()\n",
    "#         if self.count > self.q:\n",
    "#             # retrain\n",
    "#             self.th = self.th * (1 + self.ascent / self.iter) \n",
    "#             self.means = []\n",
    "#             self.size_of_cluster = []\n",
    "#             self.count = 0\n",
    "#             self.fit(data_paths)\n",
    "\n",
    "\n",
    "    def predict(self, data_paths):\n",
    "        \"\"\"\n",
    "        Returns list of indexes of the clusters each point is most likely to belong.\n",
    "        :param data_paths: list of paths\n",
    "        \"\"\"\n",
    "        labels = []\n",
    "        for img_path in data_paths: \n",
    "            img_point = self.img_coding(img_path)\n",
    "            d = []\n",
    "            for cluster in self.means:\n",
    "                d.append(dist(img_point, cluster))\n",
    "            labels.append(np.argmin(d))\n",
    "        return labels\n",
    "    \n",
    "    \n",
    "    def num_of_clusters(self):\n",
    "        \n",
    "        return self.count"
   ]
  },
  {
   "cell_type": "code",
   "execution_count": 25,
   "metadata": {},
   "outputs": [],
   "source": [
    "import os\n",
    "imgs = []\n",
    "for root, directories, filenames in os.walk('./Data/'):\n",
    "    for filename in filenames: \n",
    "        if (filename.endswith(\".jpg\") or filename.endswith(\".png\")):\n",
    "            if ('green' not in os.path.join(root,filename)) and ('yellow' not in os.path.join(root,filename)): \n",
    "                imgs.append(os.path.join(root,filename))"
   ]
  },
  {
   "cell_type": "code",
   "execution_count": 29,
   "metadata": {},
   "outputs": [],
   "source": [
    "perm = np.random.permutation(len(imgs))\n",
    "imgs = np.array(imgs)\n",
    "imgs = imgs[perm]"
   ]
  },
  {
   "cell_type": "code",
   "execution_count": 27,
   "metadata": {
    "scrolled": false
   },
   "outputs": [
    {
     "name": "stdout",
     "output_type": "stream",
     "text": [
      "3\n",
      "3.1500000000000004\n",
      "3.2287500000000002\n",
      "3.2825625\n",
      "3.32359453125\n",
      "3.3568304765625\n",
      "3.3848040638671875\n",
      "3.408981235751953\n"
     ]
    }
   ],
   "source": [
    "model = Bsas(threshold=3, \n",
    "             img_coding=image2hist, \n",
    "             max_clusters=3, \n",
    "             ascent=0.05)\n",
    "\n",
    "model.fit(imgs.tolist())"
   ]
  },
  {
   "cell_type": "code",
   "execution_count": 28,
   "metadata": {},
   "outputs": [
    {
     "data": {
      "text/plain": [
       "3"
      ]
     },
     "execution_count": 28,
     "metadata": {},
     "output_type": "execute_result"
    }
   ],
   "source": [
    "model.num_of_clusters()"
   ]
  },
  {
   "cell_type": "code",
   "execution_count": 30,
   "metadata": {},
   "outputs": [],
   "source": [
    "# for each lable create vector of clusters \n",
    "green =[]\n",
    "red_blue=[]\n",
    "black=[]\n",
    "orange=[]\n",
    "yellow=[]\n",
    "\n",
    "for i in range(len(imgs)):\n",
    "    if \"green\" in imgs[i]:\n",
    "        green.append(model.predict([imgs[i]])[0])\n",
    "    if \"black\" in imgs[i]:\n",
    "        black.append(model.predict([imgs[i]])[0])\n",
    "    if \"red-blue\" in imgs[i]:\n",
    "        red_blue.append(model.predict([imgs[i]])[0])\n",
    "    if \"orange\" in imgs[i]:\n",
    "        orange.append(model.predict([imgs[i]])[0])\n",
    "    if \"yellow\" in imgs[i]:\n",
    "        yellow.append(model.predict([imgs[i]])[0])"
   ]
  },
  {
   "cell_type": "code",
   "execution_count": 31,
   "metadata": {},
   "outputs": [
    {
     "name": "stdout",
     "output_type": "stream",
     "text": [
      "cluster 0:  7939\n",
      "cluster 1:  6652\n",
      "cluster 2:  1678\n"
     ]
    }
   ],
   "source": [
    "for i in range(model.count):\n",
    "    print(\"cluster {}: \".format(i), model.size_of_cluster[i])"
   ]
  },
  {
   "cell_type": "code",
   "execution_count": 19,
   "metadata": {},
   "outputs": [
    {
     "data": {
      "text/plain": [
       "14831"
      ]
     },
     "execution_count": 19,
     "metadata": {},
     "output_type": "execute_result"
    }
   ],
   "source": [
    "len(black) + len(red_blue) + len(yellow)"
   ]
  },
  {
   "cell_type": "code",
   "execution_count": 20,
   "metadata": {
    "collapsed": true
   },
   "outputs": [],
   "source": [
    "#count most common elements in lables\n",
    "from collections import Counter\n",
    "\n",
    "#green_cl = Counter(green).most_common()[0][0]\n",
    "black_cl = Counter(black).most_common()[0][0]\n",
    "red_blue_cl = Counter(red_blue).most_common()[0][0]\n",
    "orange_cl = Counter(orange).most_common()[0][0]\n",
    "#yellow_cl = Counter(yellow).most_common()[0][0]"
   ]
  },
  {
   "cell_type": "code",
   "execution_count": 21,
   "metadata": {},
   "outputs": [
    {
     "data": {
      "text/plain": [
       "(1, 0, 2)"
      ]
     },
     "execution_count": 21,
     "metadata": {},
     "output_type": "execute_result"
    }
   ],
   "source": [
    "black_cl, red_blue_cl, orange_cl"
   ]
  },
  {
   "cell_type": "code",
   "execution_count": 158,
   "metadata": {
    "scrolled": false
   },
   "outputs": [
    {
     "name": "stderr",
     "output_type": "stream",
     "text": [
      "/home/user/anaconda3/lib/python3.6/site-packages/ipykernel_launcher.py:12: RuntimeWarning: invalid value encountered in true_divide\n",
      "  if sys.path[0] == '':\n"
     ]
    },
    {
     "data": {
      "text/plain": [
       "<matplotlib.axes._subplots.AxesSubplot at 0x7f17daa490f0>"
      ]
     },
     "execution_count": 158,
     "metadata": {},
     "output_type": "execute_result"
    },
    {
     "data": {
      "image/png": "[encoded data removed]",
      "text/plain": [
       "<matplotlib.figure.Figure at 0x7f17daa50d68>"
      ]
     },
     "metadata": {},
     "output_type": "display_data"
    }
   ],
   "source": [
    "#dysplay confussion matrix\n",
    "from sklearn.metrics import confusion_matrix\n",
    "import seaborn as sns\n",
    "import pandas as pd\n",
    "import matplotlib.pyplot as plt\n",
    "\n",
    "np.set_printoptions(suppress=False, precision=4)\n",
    "\n",
    "y_true = len(red_blue) * [red_blue_cl] + len(orange) * [orange_cl] + len(black) * [black_cl]\n",
    "y_pred = red_blue + orange + black\n",
    "C = confusion_matrix(y_true, y_pred)\n",
    "C = C * 100 / C.astype(np.float32).sum(axis=1)[:, None]\n",
    "\n",
    "\n",
    "df = pd.DataFrame(C, index = ['Team A', 'Tean B', 'Referee'],\n",
    "                  columns = ['Team A', 'Team B', 'Referee'])\n",
    "df.index.name = 'Ground truth'\n",
    "df.columns.name = 'Predictions'\n",
    "plt.figure(figsize = (10,7))\n",
    "plt.title('Confusion Matrix in percent ')\n",
    "sns.heatmap(df, annot=True, cmap=plt.cm.Blues,  fmt='.4g')"
   ]
  },
  {
   "cell_type": "markdown",
   "metadata": {},
   "source": [
    "### Using Convolutional Autoencoders we will try to use feature extraction for image clustering"
   ]
  },
  {
   "cell_type": "code",
   "execution_count": 64,
   "metadata": {},
   "outputs": [
    {
     "name": "stdout",
     "output_type": "stream",
     "text": [
      "shape of encoded (None, 5, 3, 32)\n"
     ]
    }
   ],
   "source": [
    "input_img = Input(shape=(40, 24, 3))  \n",
    "\n",
    "conv1 = Conv2D(64, (3, 3), activation='relu', padding='same')(input_img)\n",
    "maxpool1 = MaxPooling2D((2, 2), padding='same')(conv1)\n",
    "conv2 = Conv2D(32, (3, 3), activation='relu', padding='same')(maxpool1)\n",
    "maxpool2 = MaxPooling2D((2, 2), padding='same')(conv2)\n",
    "conv3 = Conv2D(32, (3, 3), activation='relu', padding='same')(maxpool2)\n",
    "encoder = MaxPooling2D((2, 2), padding='same')(conv3)\n",
    "\n",
    "print(\"shape of encoded\", encoder._keras_shape)\n",
    "\n",
    "conv4 = Conv2D(32, (3, 3), activation='relu', padding='same')(encoder)\n",
    "upsample1 = UpSampling2D((2, 2))(conv4)\n",
    "conv5 = Conv2D(32, (3, 3), activation='relu', padding='same')(upsample1)\n",
    "upsample2 = UpSampling2D((2, 2))(conv5)\n",
    "conv6 = Conv2D(64, (3, 3), activation='relu', padding='same')(upsample2)\n",
    "upsample3 = UpSampling2D((2, 2))(conv6)\n",
    "decoder = Conv2D(3, (3, 3), activation='sigmoid', padding='same')(upsample3)\n",
    "\n",
    "#print(\"shape of decoder\", decoder._keras_shape)\n",
    "model_encoding = Model(input_img, encoder)\n",
    "autoencoder = Model(input_img, decoder)\n",
    "autoencoder.compile(optimizer=\"adadelta\", loss='binary_crossentropy')"
   ]
  },
  {
   "cell_type": "code",
   "execution_count": 65,
   "metadata": {},
   "outputs": [],
   "source": [
    "X = []\n",
    "for img_path in imgs:\n",
    "    img = cv2.imread(img_path)\n",
    "    resized_img = cv2.resize(img, (24, 40)) \n",
    "    X.append(resized_img)\n",
    "\n",
    "X = np.array(X).astype('float32') / 255.\n",
    "train_size = int(len(X) * 0.9)\n",
    "X_train, X_val = X[:train_size], X[train_size:]"
   ]
  },
  {
   "cell_type": "code",
   "execution_count": 66,
   "metadata": {
    "scrolled": true
   },
   "outputs": [
    {
     "name": "stdout",
     "output_type": "stream",
     "text": [
      "Train on 14642 samples, validate on 1627 samples\n",
      "Epoch 1/100\n",
      "14592/14642 [============================>.] - ETA: 0s - loss: 0.6519Epoch 00001: val_loss improved from inf to 0.65977, saving model to model_weights/autoencoder_weigths.hdf5\n",
      "14642/14642 [==============================] - 118s 8ms/step - loss: 0.6519 - val_loss: 0.6598\n",
      "Epoch 2/100\n",
      "14592/14642 [============================>.] - ETA: 0s - loss: 0.6305Epoch 00002: val_loss improved from 0.65977 to 0.62692, saving model to model_weights/autoencoder_weigths.hdf5\n",
      "14642/14642 [==============================] - 116s 8ms/step - loss: 0.6305 - val_loss: 0.6269\n",
      "Epoch 3/100\n",
      "14592/14642 [============================>.] - ETA: 0s - loss: 0.6244Epoch 00003: val_loss improved from 0.62692 to 0.62217, saving model to model_weights/autoencoder_weigths.hdf5\n",
      "14642/14642 [==============================] - 116s 8ms/step - loss: 0.6244 - val_loss: 0.6222\n",
      "Epoch 4/100\n",
      "14592/14642 [============================>.] - ETA: 0s - loss: 0.6208Epoch 00004: val_loss improved from 0.62217 to 0.62055, saving model to model_weights/autoencoder_weigths.hdf5\n",
      "14642/14642 [==============================] - 113s 8ms/step - loss: 0.6208 - val_loss: 0.6206\n",
      "Epoch 5/100\n",
      "14592/14642 [============================>.] - ETA: 0s - loss: 0.6185Epoch 00005: val_loss improved from 0.62055 to 0.61891, saving model to model_weights/autoencoder_weigths.hdf5\n",
      "14642/14642 [==============================] - 110s 8ms/step - loss: 0.6185 - val_loss: 0.6189\n",
      "Epoch 6/100\n",
      "14592/14642 [============================>.] - ETA: 0s - loss: 0.6165Epoch 00006: val_loss improved from 0.61891 to 0.61794, saving model to model_weights/autoencoder_weigths.hdf5\n",
      "14642/14642 [==============================] - 110s 8ms/step - loss: 0.6165 - val_loss: 0.6179\n",
      "Epoch 7/100\n",
      "14592/14642 [============================>.] - ETA: 0s - loss: 0.6151Epoch 00007: val_loss did not improve\n",
      "14642/14642 [==============================] - 111s 8ms/step - loss: 0.6151 - val_loss: 0.6180\n",
      "Epoch 8/100\n",
      "14592/14642 [============================>.] - ETA: 0s - loss: 0.6144Epoch 00008: val_loss improved from 0.61794 to 0.61503, saving model to model_weights/autoencoder_weigths.hdf5\n",
      "14642/14642 [==============================] - 111s 8ms/step - loss: 0.6144 - val_loss: 0.6150\n",
      "Epoch 9/100\n",
      "14592/14642 [============================>.] - ETA: 0s - loss: 0.6134Epoch 00009: val_loss improved from 0.61503 to 0.61388, saving model to model_weights/autoencoder_weigths.hdf5\n",
      "14642/14642 [==============================] - 110s 8ms/step - loss: 0.6134 - val_loss: 0.6139\n",
      "Epoch 10/100\n",
      "14592/14642 [============================>.] - ETA: 0s - loss: 0.6127Epoch 00010: val_loss improved from 0.61388 to 0.61279, saving model to model_weights/autoencoder_weigths.hdf5\n",
      "14642/14642 [==============================] - 111s 8ms/step - loss: 0.6127 - val_loss: 0.6128\n",
      "Epoch 11/100\n",
      "14592/14642 [============================>.] - ETA: 0s - loss: 0.6121Epoch 00011: val_loss did not improve\n",
      "14642/14642 [==============================] - 110s 8ms/step - loss: 0.6121 - val_loss: 0.6144\n",
      "Epoch 12/100\n",
      "14592/14642 [============================>.] - ETA: 0s - loss: 0.6116Epoch 00012: val_loss did not improve\n",
      "14642/14642 [==============================] - 111s 8ms/step - loss: 0.6116 - val_loss: 0.6131\n",
      "Epoch 13/100\n",
      "14592/14642 [============================>.] - ETA: 0s - loss: 0.6111Epoch 00013: val_loss improved from 0.61279 to 0.61158, saving model to model_weights/autoencoder_weigths.hdf5\n",
      "14642/14642 [==============================] - 111s 8ms/step - loss: 0.6111 - val_loss: 0.6116\n",
      "Epoch 14/100\n",
      "14592/14642 [============================>.] - ETA: 0s - loss: 0.6106Epoch 00014: val_loss improved from 0.61158 to 0.61154, saving model to model_weights/autoencoder_weigths.hdf5\n",
      "14642/14642 [==============================] - 111s 8ms/step - loss: 0.6106 - val_loss: 0.6115\n",
      "Epoch 15/100\n",
      "14592/14642 [============================>.] - ETA: 0s - loss: 0.6103Epoch 00015: val_loss improved from 0.61154 to 0.61134, saving model to model_weights/autoencoder_weigths.hdf5\n",
      "14642/14642 [==============================] - 111s 8ms/step - loss: 0.6103 - val_loss: 0.6113\n",
      "Epoch 16/100\n",
      "14592/14642 [============================>.] - ETA: 0s - loss: 0.6098Epoch 00016: val_loss did not improve\n",
      "14642/14642 [==============================] - 111s 8ms/step - loss: 0.6098 - val_loss: 0.6131\n",
      "Epoch 17/100\n",
      "14592/14642 [============================>.] - ETA: 0s - loss: 0.6095Epoch 00017: val_loss did not improve\n",
      "14642/14642 [==============================] - 111s 8ms/step - loss: 0.6095 - val_loss: 0.6117\n",
      "Epoch 18/100\n",
      "14592/14642 [============================>.] - ETA: 0s - loss: 0.6092Epoch 00018: val_loss improved from 0.61134 to 0.61083, saving model to model_weights/autoencoder_weigths.hdf5\n",
      "14642/14642 [==============================] - 111s 8ms/step - loss: 0.6092 - val_loss: 0.6108\n",
      "Epoch 19/100\n",
      "14592/14642 [============================>.] - ETA: 0s - loss: 0.6090Epoch 00019: val_loss improved from 0.61083 to 0.61082, saving model to model_weights/autoencoder_weigths.hdf5\n",
      "14642/14642 [==============================] - 112s 8ms/step - loss: 0.6090 - val_loss: 0.6108\n",
      "Epoch 20/100\n",
      "14592/14642 [============================>.] - ETA: 0s - loss: 0.6086Epoch 00020: val_loss improved from 0.61082 to 0.60986, saving model to model_weights/autoencoder_weigths.hdf5\n",
      "14642/14642 [==============================] - 112s 8ms/step - loss: 0.6086 - val_loss: 0.6099\n",
      "Epoch 21/100\n",
      "14592/14642 [============================>.] - ETA: 0s - loss: 0.6084Epoch 00021: val_loss did not improve\n",
      "14642/14642 [==============================] - 111s 8ms/step - loss: 0.6084 - val_loss: 0.6110\n",
      "Epoch 22/100\n",
      "14592/14642 [============================>.] - ETA: 0s - loss: 0.6081Epoch 00022: val_loss improved from 0.60986 to 0.60904, saving model to model_weights/autoencoder_weigths.hdf5\n",
      "14642/14642 [==============================] - 111s 8ms/step - loss: 0.6081 - val_loss: 0.6090\n",
      "Epoch 23/100\n",
      "14592/14642 [============================>.] - ETA: 0s - loss: 0.6078Epoch 00023: val_loss did not improve\n",
      "14642/14642 [==============================] - 112s 8ms/step - loss: 0.6078 - val_loss: 0.6103\n",
      "Epoch 24/100\n",
      "14592/14642 [============================>.] - ETA: 0s - loss: 0.6076Epoch 00024: val_loss did not improve\n",
      "14642/14642 [==============================] - 111s 8ms/step - loss: 0.6075 - val_loss: 0.6098\n",
      "Epoch 25/100\n",
      "14592/14642 [============================>.] - ETA: 0s - loss: 0.6074Epoch 00025: val_loss improved from 0.60904 to 0.60861, saving model to model_weights/autoencoder_weigths.hdf5\n",
      "14642/14642 [==============================] - 111s 8ms/step - loss: 0.6074 - val_loss: 0.6086\n",
      "Epoch 26/100\n",
      "14592/14642 [============================>.] - ETA: 0s - loss: 0.6070Epoch 00026: val_loss did not improve\n",
      "14642/14642 [==============================] - 112s 8ms/step - loss: 0.6070 - val_loss: 0.6086\n",
      "Epoch 27/100\n",
      "14592/14642 [============================>.] - ETA: 0s - loss: 0.6068Epoch 00027: val_loss did not improve\n",
      "14642/14642 [==============================] - 111s 8ms/step - loss: 0.6068 - val_loss: 0.6088\n",
      "Epoch 28/100\n",
      "14592/14642 [============================>.] - ETA: 0s - loss: 0.6066Epoch 00028: val_loss improved from 0.60861 to 0.60853, saving model to model_weights/autoencoder_weigths.hdf5\n",
      "14642/14642 [==============================] - 111s 8ms/step - loss: 0.6066 - val_loss: 0.6085\n",
      "Epoch 29/100\n",
      "14592/14642 [============================>.] - ETA: 0s - loss: 0.6064Epoch 00029: val_loss improved from 0.60853 to 0.60741, saving model to model_weights/autoencoder_weigths.hdf5\n",
      "14642/14642 [==============================] - 114s 8ms/step - loss: 0.6064 - val_loss: 0.6074\n",
      "Epoch 30/100\n",
      "14592/14642 [============================>.] - ETA: 0s - loss: 0.6061Epoch 00030: val_loss did not improve\n",
      "14642/14642 [==============================] - 121s 8ms/step - loss: 0.6061 - val_loss: 0.6083\n",
      "Epoch 31/100\n",
      "14592/14642 [============================>.] - ETA: 0s - loss: 0.6060Epoch 00031: val_loss did not improve\n",
      "14642/14642 [==============================] - 122s 8ms/step - loss: 0.6060 - val_loss: 0.6084\n",
      "Epoch 32/100\n",
      "14592/14642 [============================>.] - ETA: 0s - loss: 0.6058Epoch 00032: val_loss did not improve\n",
      "14642/14642 [==============================] - 117s 8ms/step - loss: 0.6058 - val_loss: 0.6078\n"
     ]
    },
    {
     "name": "stdout",
     "output_type": "stream",
     "text": [
      "Epoch 33/100\n",
      "14592/14642 [============================>.] - ETA: 0s - loss: 0.6056Epoch 00033: val_loss did not improve\n",
      "14642/14642 [==============================] - 117s 8ms/step - loss: 0.6056 - val_loss: 0.6079\n",
      "Epoch 34/100\n",
      "14592/14642 [============================>.] - ETA: 0s - loss: 0.6055Epoch 00034: val_loss improved from 0.60741 to 0.60720, saving model to model_weights/autoencoder_weigths.hdf5\n",
      "14642/14642 [==============================] - 123s 8ms/step - loss: 0.6055 - val_loss: 0.6072\n",
      "Epoch 35/100\n",
      "14592/14642 [============================>.] - ETA: 0s - loss: 0.6053Epoch 00035: val_loss improved from 0.60720 to 0.60700, saving model to model_weights/autoencoder_weigths.hdf5\n",
      "14642/14642 [==============================] - 123s 8ms/step - loss: 0.6053 - val_loss: 0.6070\n",
      "Epoch 36/100\n",
      "14592/14642 [============================>.] - ETA: 0s - loss: 0.6051Epoch 00036: val_loss did not improve\n",
      "14642/14642 [==============================] - 121s 8ms/step - loss: 0.6051 - val_loss: 0.6070\n",
      "Epoch 37/100\n",
      "14592/14642 [============================>.] - ETA: 0s - loss: 0.6049Epoch 00037: val_loss improved from 0.60700 to 0.60676, saving model to model_weights/autoencoder_weigths.hdf5\n",
      "14642/14642 [==============================] - 117s 8ms/step - loss: 0.6049 - val_loss: 0.6068\n",
      "Epoch 38/100\n",
      "14592/14642 [============================>.] - ETA: 0s - loss: 0.6048Epoch 00038: val_loss improved from 0.60676 to 0.60649, saving model to model_weights/autoencoder_weigths.hdf5\n",
      "14642/14642 [==============================] - 118s 8ms/step - loss: 0.6048 - val_loss: 0.6065\n",
      "Epoch 39/100\n",
      "14592/14642 [============================>.] - ETA: 0s - loss: 0.6047Epoch 00039: val_loss did not improve\n",
      "14642/14642 [==============================] - 117s 8ms/step - loss: 0.6046 - val_loss: 0.6073\n",
      "Epoch 40/100\n",
      "14592/14642 [============================>.] - ETA: 0s - loss: 0.6045Epoch 00040: val_loss improved from 0.60649 to 0.60641, saving model to model_weights/autoencoder_weigths.hdf5\n",
      "14642/14642 [==============================] - 116s 8ms/step - loss: 0.6045 - val_loss: 0.6064\n",
      "Epoch 41/100\n",
      "14592/14642 [============================>.] - ETA: 0s - loss: 0.6044Epoch 00041: val_loss improved from 0.60641 to 0.60640, saving model to model_weights/autoencoder_weigths.hdf5\n",
      "14642/14642 [==============================] - 116s 8ms/step - loss: 0.6044 - val_loss: 0.6064\n",
      "Epoch 42/100\n",
      "14592/14642 [============================>.] - ETA: 0s - loss: 0.6042Epoch 00042: val_loss improved from 0.60640 to 0.60556, saving model to model_weights/autoencoder_weigths.hdf5\n",
      "14642/14642 [==============================] - 116s 8ms/step - loss: 0.6042 - val_loss: 0.6056\n",
      "Epoch 43/100\n",
      "14592/14642 [============================>.] - ETA: 0s - loss: 0.6042Epoch 00043: val_loss did not improve\n",
      "14642/14642 [==============================] - 111s 8ms/step - loss: 0.6041 - val_loss: 0.6058\n",
      "Epoch 44/100\n",
      "14592/14642 [============================>.] - ETA: 0s - loss: 0.6039Epoch 00044: val_loss improved from 0.60556 to 0.60536, saving model to model_weights/autoencoder_weigths.hdf5\n",
      "14642/14642 [==============================] - 110s 8ms/step - loss: 0.6040 - val_loss: 0.6054\n",
      "Epoch 45/100\n",
      "14592/14642 [============================>.] - ETA: 0s - loss: 0.6037Epoch 00045: val_loss did not improve\n",
      "14642/14642 [==============================] - 111s 8ms/step - loss: 0.6037 - val_loss: 0.6059\n",
      "Epoch 46/100\n",
      "14592/14642 [============================>.] - ETA: 0s - loss: 0.6037Epoch 00046: val_loss improved from 0.60536 to 0.60470, saving model to model_weights/autoencoder_weigths.hdf5\n",
      "14642/14642 [==============================] - 111s 8ms/step - loss: 0.6037 - val_loss: 0.6047\n",
      "Epoch 47/100\n",
      "14592/14642 [============================>.] - ETA: 0s - loss: 0.6035Epoch 00047: val_loss did not improve\n",
      "14642/14642 [==============================] - 110s 8ms/step - loss: 0.6035 - val_loss: 0.6050\n",
      "Epoch 48/100\n",
      "14592/14642 [============================>.] - ETA: 0s - loss: 0.6034Epoch 00048: val_loss did not improve\n",
      "14642/14642 [==============================] - 110s 8ms/step - loss: 0.6034 - val_loss: 0.6050\n",
      "Epoch 49/100\n",
      "14592/14642 [============================>.] - ETA: 0s - loss: 0.6033Epoch 00049: val_loss improved from 0.60470 to 0.60433, saving model to model_weights/autoencoder_weigths.hdf5\n",
      "14642/14642 [==============================] - 110s 8ms/step - loss: 0.6033 - val_loss: 0.6043\n",
      "Epoch 50/100\n",
      "14592/14642 [============================>.] - ETA: 0s - loss: 0.6031Epoch 00050: val_loss did not improve\n",
      "14642/14642 [==============================] - 113s 8ms/step - loss: 0.6031 - val_loss: 0.6047\n",
      "Epoch 51/100\n",
      " 1152/14642 [=>............................] - ETA: 1:46 - loss: 0.6051"
     ]
    },
    {
     "ename": "KeyboardInterrupt",
     "evalue": "",
     "output_type": "error",
     "traceback": [
      "\u001b[0;31m---------------------------------------------------------------------------\u001b[0m",
      "\u001b[0;31mKeyboardInterrupt\u001b[0m                         Traceback (most recent call last)",
      "\u001b[0;32m<ipython-input-66-acfe9af84175>\u001b[0m in \u001b[0;36m<module>\u001b[0;34m()\u001b[0m\n\u001b[1;32m      3\u001b[0m                 \u001b[0mepochs\u001b[0m\u001b[0;34m=\u001b[0m\u001b[0;36m100\u001b[0m\u001b[0;34m,\u001b[0m \u001b[0mbatch_size\u001b[0m\u001b[0;34m=\u001b[0m\u001b[0;36m128\u001b[0m\u001b[0;34m,\u001b[0m \u001b[0mshuffle\u001b[0m\u001b[0;34m=\u001b[0m\u001b[0;32mTrue\u001b[0m\u001b[0;34m,\u001b[0m\u001b[0;34m\u001b[0m\u001b[0m\n\u001b[1;32m      4\u001b[0m                 \u001b[0mvalidation_data\u001b[0m\u001b[0;34m=\u001b[0m\u001b[0;34m(\u001b[0m\u001b[0mX_val\u001b[0m\u001b[0;34m,\u001b[0m \u001b[0mX_val\u001b[0m\u001b[0;34m)\u001b[0m\u001b[0;34m,\u001b[0m\u001b[0;34m\u001b[0m\u001b[0m\n\u001b[0;32m----> 5\u001b[0;31m                 callbacks=[checkpoint])\n\u001b[0m",
      "\u001b[0;32m~/anaconda3/lib/python3.6/site-packages/keras/engine/training.py\u001b[0m in \u001b[0;36mfit\u001b[0;34m(self, x, y, batch_size, epochs, verbose, callbacks, validation_split, validation_data, shuffle, class_weight, sample_weight, initial_epoch, steps_per_epoch, validation_steps, **kwargs)\u001b[0m\n\u001b[1;32m   1629\u001b[0m                               \u001b[0minitial_epoch\u001b[0m\u001b[0;34m=\u001b[0m\u001b[0minitial_epoch\u001b[0m\u001b[0;34m,\u001b[0m\u001b[0;34m\u001b[0m\u001b[0m\n\u001b[1;32m   1630\u001b[0m                               \u001b[0msteps_per_epoch\u001b[0m\u001b[0;34m=\u001b[0m\u001b[0msteps_per_epoch\u001b[0m\u001b[0;34m,\u001b[0m\u001b[0;34m\u001b[0m\u001b[0m\n\u001b[0;32m-> 1631\u001b[0;31m                               validation_steps=validation_steps)\n\u001b[0m\u001b[1;32m   1632\u001b[0m \u001b[0;34m\u001b[0m\u001b[0m\n\u001b[1;32m   1633\u001b[0m     def evaluate(self, x=None, y=None,\n",
      "\u001b[0;32m~/anaconda3/lib/python3.6/site-packages/keras/engine/training.py\u001b[0m in \u001b[0;36m_fit_loop\u001b[0;34m(self, f, ins, out_labels, batch_size, epochs, verbose, callbacks, val_f, val_ins, shuffle, callback_metrics, initial_epoch, steps_per_epoch, validation_steps)\u001b[0m\n\u001b[1;32m   1211\u001b[0m                     \u001b[0mbatch_logs\u001b[0m\u001b[0;34m[\u001b[0m\u001b[0;34m'size'\u001b[0m\u001b[0;34m]\u001b[0m \u001b[0;34m=\u001b[0m \u001b[0mlen\u001b[0m\u001b[0;34m(\u001b[0m\u001b[0mbatch_ids\u001b[0m\u001b[0;34m)\u001b[0m\u001b[0;34m\u001b[0m\u001b[0m\n\u001b[1;32m   1212\u001b[0m                     \u001b[0mcallbacks\u001b[0m\u001b[0;34m.\u001b[0m\u001b[0mon_batch_begin\u001b[0m\u001b[0;34m(\u001b[0m\u001b[0mbatch_index\u001b[0m\u001b[0;34m,\u001b[0m \u001b[0mbatch_logs\u001b[0m\u001b[0;34m)\u001b[0m\u001b[0;34m\u001b[0m\u001b[0m\n\u001b[0;32m-> 1213\u001b[0;31m                     \u001b[0mouts\u001b[0m \u001b[0;34m=\u001b[0m \u001b[0mf\u001b[0m\u001b[0;34m(\u001b[0m\u001b[0mins_batch\u001b[0m\u001b[0;34m)\u001b[0m\u001b[0;34m\u001b[0m\u001b[0m\n\u001b[0m\u001b[1;32m   1214\u001b[0m                     \u001b[0;32mif\u001b[0m \u001b[0;32mnot\u001b[0m \u001b[0misinstance\u001b[0m\u001b[0;34m(\u001b[0m\u001b[0mouts\u001b[0m\u001b[0;34m,\u001b[0m \u001b[0mlist\u001b[0m\u001b[0;34m)\u001b[0m\u001b[0;34m:\u001b[0m\u001b[0;34m\u001b[0m\u001b[0m\n\u001b[1;32m   1215\u001b[0m                         \u001b[0mouts\u001b[0m \u001b[0;34m=\u001b[0m \u001b[0;34m[\u001b[0m\u001b[0mouts\u001b[0m\u001b[0;34m]\u001b[0m\u001b[0;34m\u001b[0m\u001b[0m\n",
      "\u001b[0;32m~/anaconda3/lib/python3.6/site-packages/keras/backend/tensorflow_backend.py\u001b[0m in \u001b[0;36m__call__\u001b[0;34m(self, inputs)\u001b[0m\n\u001b[1;32m   2330\u001b[0m         updated = session.run(self.outputs + [self.updates_op],\n\u001b[1;32m   2331\u001b[0m                               \u001b[0mfeed_dict\u001b[0m\u001b[0;34m=\u001b[0m\u001b[0mfeed_dict\u001b[0m\u001b[0;34m,\u001b[0m\u001b[0;34m\u001b[0m\u001b[0m\n\u001b[0;32m-> 2332\u001b[0;31m                               **self.session_kwargs)\n\u001b[0m\u001b[1;32m   2333\u001b[0m         \u001b[0;32mreturn\u001b[0m \u001b[0mupdated\u001b[0m\u001b[0;34m[\u001b[0m\u001b[0;34m:\u001b[0m\u001b[0mlen\u001b[0m\u001b[0;34m(\u001b[0m\u001b[0mself\u001b[0m\u001b[0;34m.\u001b[0m\u001b[0moutputs\u001b[0m\u001b[0;34m)\u001b[0m\u001b[0;34m]\u001b[0m\u001b[0;34m\u001b[0m\u001b[0m\n\u001b[1;32m   2334\u001b[0m \u001b[0;34m\u001b[0m\u001b[0m\n",
      "\u001b[0;32m~/anaconda3/lib/python3.6/site-packages/tensorflow/python/client/session.py\u001b[0m in \u001b[0;36mrun\u001b[0;34m(self, fetches, feed_dict, options, run_metadata)\u001b[0m\n\u001b[1;32m    776\u001b[0m     \u001b[0;32mtry\u001b[0m\u001b[0;34m:\u001b[0m\u001b[0;34m\u001b[0m\u001b[0m\n\u001b[1;32m    777\u001b[0m       result = self._run(None, fetches, feed_dict, options_ptr,\n\u001b[0;32m--> 778\u001b[0;31m                          run_metadata_ptr)\n\u001b[0m\u001b[1;32m    779\u001b[0m       \u001b[0;32mif\u001b[0m \u001b[0mrun_metadata\u001b[0m\u001b[0;34m:\u001b[0m\u001b[0;34m\u001b[0m\u001b[0m\n\u001b[1;32m    780\u001b[0m         \u001b[0mproto_data\u001b[0m \u001b[0;34m=\u001b[0m \u001b[0mtf_session\u001b[0m\u001b[0;34m.\u001b[0m\u001b[0mTF_GetBuffer\u001b[0m\u001b[0;34m(\u001b[0m\u001b[0mrun_metadata_ptr\u001b[0m\u001b[0;34m)\u001b[0m\u001b[0;34m\u001b[0m\u001b[0m\n",
      "\u001b[0;32m~/anaconda3/lib/python3.6/site-packages/tensorflow/python/client/session.py\u001b[0m in \u001b[0;36m_run\u001b[0;34m(self, handle, fetches, feed_dict, options, run_metadata)\u001b[0m\n\u001b[1;32m    980\u001b[0m     \u001b[0;32mif\u001b[0m \u001b[0mfinal_fetches\u001b[0m \u001b[0;32mor\u001b[0m \u001b[0mfinal_targets\u001b[0m\u001b[0;34m:\u001b[0m\u001b[0;34m\u001b[0m\u001b[0m\n\u001b[1;32m    981\u001b[0m       results = self._do_run(handle, final_targets, final_fetches,\n\u001b[0;32m--> 982\u001b[0;31m                              feed_dict_string, options, run_metadata)\n\u001b[0m\u001b[1;32m    983\u001b[0m     \u001b[0;32melse\u001b[0m\u001b[0;34m:\u001b[0m\u001b[0;34m\u001b[0m\u001b[0m\n\u001b[1;32m    984\u001b[0m       \u001b[0mresults\u001b[0m \u001b[0;34m=\u001b[0m \u001b[0;34m[\u001b[0m\u001b[0;34m]\u001b[0m\u001b[0;34m\u001b[0m\u001b[0m\n",
      "\u001b[0;32m~/anaconda3/lib/python3.6/site-packages/tensorflow/python/client/session.py\u001b[0m in \u001b[0;36m_do_run\u001b[0;34m(self, handle, target_list, fetch_list, feed_dict, options, run_metadata)\u001b[0m\n\u001b[1;32m   1030\u001b[0m     \u001b[0;32mif\u001b[0m \u001b[0mhandle\u001b[0m \u001b[0;32mis\u001b[0m \u001b[0;32mNone\u001b[0m\u001b[0;34m:\u001b[0m\u001b[0;34m\u001b[0m\u001b[0m\n\u001b[1;32m   1031\u001b[0m       return self._do_call(_run_fn, self._session, feed_dict, fetch_list,\n\u001b[0;32m-> 1032\u001b[0;31m                            target_list, options, run_metadata)\n\u001b[0m\u001b[1;32m   1033\u001b[0m     \u001b[0;32melse\u001b[0m\u001b[0;34m:\u001b[0m\u001b[0;34m\u001b[0m\u001b[0m\n\u001b[1;32m   1034\u001b[0m       return self._do_call(_prun_fn, self._session, handle, feed_dict,\n",
      "\u001b[0;32m~/anaconda3/lib/python3.6/site-packages/tensorflow/python/client/session.py\u001b[0m in \u001b[0;36m_do_call\u001b[0;34m(self, fn, *args)\u001b[0m\n\u001b[1;32m   1037\u001b[0m   \u001b[0;32mdef\u001b[0m \u001b[0m_do_call\u001b[0m\u001b[0;34m(\u001b[0m\u001b[0mself\u001b[0m\u001b[0;34m,\u001b[0m \u001b[0mfn\u001b[0m\u001b[0;34m,\u001b[0m \u001b[0;34m*\u001b[0m\u001b[0margs\u001b[0m\u001b[0;34m)\u001b[0m\u001b[0;34m:\u001b[0m\u001b[0;34m\u001b[0m\u001b[0m\n\u001b[1;32m   1038\u001b[0m     \u001b[0;32mtry\u001b[0m\u001b[0;34m:\u001b[0m\u001b[0;34m\u001b[0m\u001b[0m\n\u001b[0;32m-> 1039\u001b[0;31m       \u001b[0;32mreturn\u001b[0m \u001b[0mfn\u001b[0m\u001b[0;34m(\u001b[0m\u001b[0;34m*\u001b[0m\u001b[0margs\u001b[0m\u001b[0;34m)\u001b[0m\u001b[0;34m\u001b[0m\u001b[0m\n\u001b[0m\u001b[1;32m   1040\u001b[0m     \u001b[0;32mexcept\u001b[0m \u001b[0merrors\u001b[0m\u001b[0;34m.\u001b[0m\u001b[0mOpError\u001b[0m \u001b[0;32mas\u001b[0m \u001b[0me\u001b[0m\u001b[0;34m:\u001b[0m\u001b[0;34m\u001b[0m\u001b[0m\n\u001b[1;32m   1041\u001b[0m       \u001b[0mmessage\u001b[0m \u001b[0;34m=\u001b[0m \u001b[0mcompat\u001b[0m\u001b[0;34m.\u001b[0m\u001b[0mas_text\u001b[0m\u001b[0;34m(\u001b[0m\u001b[0me\u001b[0m\u001b[0;34m.\u001b[0m\u001b[0mmessage\u001b[0m\u001b[0;34m)\u001b[0m\u001b[0;34m\u001b[0m\u001b[0m\n",
      "\u001b[0;32m~/anaconda3/lib/python3.6/site-packages/tensorflow/python/client/session.py\u001b[0m in \u001b[0;36m_run_fn\u001b[0;34m(session, feed_dict, fetch_list, target_list, options, run_metadata)\u001b[0m\n\u001b[1;32m   1019\u001b[0m         return tf_session.TF_Run(session, options,\n\u001b[1;32m   1020\u001b[0m                                  \u001b[0mfeed_dict\u001b[0m\u001b[0;34m,\u001b[0m \u001b[0mfetch_list\u001b[0m\u001b[0;34m,\u001b[0m \u001b[0mtarget_list\u001b[0m\u001b[0;34m,\u001b[0m\u001b[0;34m\u001b[0m\u001b[0m\n\u001b[0;32m-> 1021\u001b[0;31m                                  status, run_metadata)\n\u001b[0m\u001b[1;32m   1022\u001b[0m \u001b[0;34m\u001b[0m\u001b[0m\n\u001b[1;32m   1023\u001b[0m     \u001b[0;32mdef\u001b[0m \u001b[0m_prun_fn\u001b[0m\u001b[0;34m(\u001b[0m\u001b[0msession\u001b[0m\u001b[0;34m,\u001b[0m \u001b[0mhandle\u001b[0m\u001b[0;34m,\u001b[0m \u001b[0mfeed_dict\u001b[0m\u001b[0;34m,\u001b[0m \u001b[0mfetch_list\u001b[0m\u001b[0;34m)\u001b[0m\u001b[0;34m:\u001b[0m\u001b[0;34m\u001b[0m\u001b[0m\n",
      "\u001b[0;31mKeyboardInterrupt\u001b[0m: "
     ]
    }
   ],
   "source": [
    "checkpoint = ModelCheckpoint(filepath=\"model_weights/autoencoder_weigths.hdf5\", monitor='val_loss', verbose=1, save_best_only=True)\n",
    "autoencoder.fit(X_train, X_train,\n",
    "                epochs=100, batch_size=128, shuffle=True, \n",
    "                validation_data=(X_val, X_val),\n",
    "                callbacks=[checkpoint])"
   ]
  },
  {
   "cell_type": "code",
   "execution_count": 67,
   "metadata": {},
   "outputs": [],
   "source": [
    "autoencoder.load_weights(\"model_weights/autoencoder_weigths.hdf5\")"
   ]
  },
  {
   "cell_type": "code",
   "execution_count": 144,
   "metadata": {},
   "outputs": [],
   "source": [
    "def image_encoder(img_path):\n",
    "        \"\"\"\n",
    "         returs: encoded image\n",
    "        :param img_path: link to image\n",
    "        \"\"\"\n",
    "        img = cv2.imread(img_path)\n",
    "        resized_img = cv2.resize(img, (24, 40)) \n",
    "        vec = model_encoding.predict(resized_img[None, :]).flatten()\n",
    "        return (vec / 1000) ** 2"
   ]
  },
  {
   "cell_type": "code",
   "execution_count": 146,
   "metadata": {},
   "outputs": [
    {
     "name": "stdout",
     "output_type": "stream",
     "text": [
      "12\n",
      "13.200000000000001\n",
      "13.860000000000001\n",
      "14.322000000000003\n"
     ]
    }
   ],
   "source": [
    "model_encoder = Bsas(threshold=12, \n",
    "             img_coding=image_encoder, \n",
    "             max_clusters=3, \n",
    "             ascent=0.1)\n",
    "\n",
    "model_encoder.fit(imgs.tolist())"
   ]
  },
  {
   "cell_type": "code",
   "execution_count": 147,
   "metadata": {},
   "outputs": [
    {
     "data": {
      "text/plain": [
       "3"
      ]
     },
     "execution_count": 147,
     "metadata": {},
     "output_type": "execute_result"
    }
   ],
   "source": [
    "model_encoder.num_of_clusters()"
   ]
  },
  {
   "cell_type": "code",
   "execution_count": 148,
   "metadata": {},
   "outputs": [],
   "source": [
    "# for each lable create vector of clusters \n",
    "green =[]\n",
    "red_blue=[]\n",
    "black=[]\n",
    "orange=[]\n",
    "yellow=[]\n",
    "\n",
    "for i in range(len(imgs)):\n",
    "    if \"green\" in imgs[i]:\n",
    "        green.append(model_encoder.predict([imgs[i]])[0])\n",
    "    if \"black\" in imgs[i]:\n",
    "        black.append(model_encoder.predict([imgs[i]])[0])\n",
    "    if \"red-blue\" in imgs[i]:\n",
    "        red_blue.append(model_encoder.predict([imgs[i]])[0])\n",
    "    if \"orange\" in imgs[i]:\n",
    "        orange.append(model_encoder.predict([imgs[i]])[0])\n",
    "    if \"yellow\" in imgs[i]:\n",
    "        yellow.append(model_encoder.predict([imgs[i]])[0])"
   ]
  },
  {
   "cell_type": "code",
   "execution_count": 149,
   "metadata": {},
   "outputs": [
    {
     "name": "stdout",
     "output_type": "stream",
     "text": [
      "cluster 0:  6373\n",
      "cluster 1:  8381\n",
      "cluster 2:  1515\n"
     ]
    }
   ],
   "source": [
    "for i in range(model_encoder.count):\n",
    "    print(\"cluster {}: \".format(i), model_encoder.size_of_cluster[i])"
   ]
  },
  {
   "cell_type": "code",
   "execution_count": 150,
   "metadata": {},
   "outputs": [
    {
     "data": {
      "text/plain": [
       "14831"
      ]
     },
     "execution_count": 150,
     "metadata": {},
     "output_type": "execute_result"
    }
   ],
   "source": [
    "len(black) + len(red_blue) + len(yellow)"
   ]
  },
  {
   "cell_type": "code",
   "execution_count": 151,
   "metadata": {},
   "outputs": [],
   "source": [
    "#count most common elements in lables\n",
    "from collections import Counter\n",
    "\n",
    "#green_cl = Counter(green).most_common()[0][0]\n",
    "black_cl = Counter(black).most_common()[0][0]\n",
    "red_blue_cl = Counter(red_blue).most_common()[0][0]\n",
    "orange_cl = Counter(orange).most_common()[0][0]\n",
    "#yellow_cl = Counter(yellow).most_common()[0][0]"
   ]
  },
  {
   "cell_type": "code",
   "execution_count": 163,
   "metadata": {},
   "outputs": [
    {
     "data": {
      "text/plain": [
       "<matplotlib.axes._subplots.AxesSubplot at 0x7f17daaae9e8>"
      ]
     },
     "execution_count": 163,
     "metadata": {},
     "output_type": "execute_result"
    },
    {
     "data": {
      "image/png": "[encoded data removed]",
      "text/plain": [
       "<matplotlib.figure.Figure at 0x7f17d9c56e80>"
      ]
     },
     "metadata": {},
     "output_type": "display_data"
    }
   ],
   "source": [
    "#dysplay confussion matrix\n",
    "from sklearn.metrics import confusion_matrix\n",
    "import seaborn as sns\n",
    "import pandas as pd\n",
    "import matplotlib.pyplot as plt\n",
    "\n",
    "np.set_printoptions(suppress=False, precision=4)\n",
    "\n",
    "y_true = len(red_blue) * [red_blue_cl] + len(orange) * [orange_cl] + len(black) * [black_cl]\n",
    "y_pred = red_blue + orange + black\n",
    "C = confusion_matrix(y_true, y_pred)\n",
    "C = C * 100 / C.astype(np.float32).sum(axis=1)[:, None]\n",
    "\n",
    "df = pd.DataFrame(C, index = ['Team A', 'Team B', 'Referee'],\n",
    "                  columns = ['Team A', 'Team B', 'Referee'])\n",
    "df.index.name = 'Ground truth'\n",
    "df.columns.name = 'Predictions'\n",
    "plt.figure(figsize = (10,7))\n",
    "plt.title('Confusion Matrix in percent ')\n",
    "sns.heatmap(df, annot=True, cmap=plt.cm.Blues,  fmt='.4g')"
   ]
  },
  {
   "cell_type": "code",
   "execution_count": null,
   "metadata": {},
   "outputs": [],
   "source": []
  }
 ],
 "metadata": {
  "kernelspec": {
   "display_name": "Python 3",
   "language": "python",
   "name": "python3"
  },
  "language_info": {
   "codemirror_mode": {
    "name": "ipython",
    "version": 3
   },
   "file_extension": ".py",
   "mimetype": "text/x-python",
   "name": "python",
   "nbconvert_exporter": "python",
   "pygments_lexer": "ipython3",
   "version": "3.6.4"
  }
 },
 "nbformat": 4,
 "nbformat_minor": 2
}
